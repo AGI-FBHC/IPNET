{
 "cells": [
  {
   "cell_type": "code",
   "execution_count": 1,
   "metadata": {},
   "outputs": [
    {
     "name": "stderr",
     "output_type": "stream",
     "text": [
      "Found local copy...\n",
      "Loading...\n",
      "Done!\n"
     ]
    },
    {
     "name": "stdout",
     "output_type": "stream",
     "text": [
      "         Gene_ID                                               Gene  \\\n",
      "0              1  MSMLVVFLLLWGVTWGPVTEAAIFYETQPSLWAESESLLKPLANVT...   \n",
      "1              1  MSMLVVFLLLWGVTWGPVTEAAIFYETQPSLWAESESLLKPLANVT...   \n",
      "2              2  MGKNKLLHPSLVLLLLVLLPTDASVSGKPQYMVLVPSLLHTETTEK...   \n",
      "3              2  MGKNKLLHPSLVLLLLVLLPTDASVSGKPQYMVLVPSLLHTETTEK...   \n",
      "4              2  MGKNKLLHPSLVLLLLVLLPTDASVSGKPQYMVLVPSLLHTETTEK...   \n",
      "...          ...                                                ...   \n",
      "52471  100507436  MGLGPVFLLLAGIFPFAPPGAAAEPHSLRYNLTVLSWDGSVQSGFL...   \n",
      "52472  100507436  MGLGPVFLLLAGIFPFAPPGAAAEPHSLRYNLTVLSWDGSVQSGFL...   \n",
      "52473  100820829  MLRSTSTVTLLSGGAARTPGAPSRRANVCRLRLTVPPESPVPEQCE...   \n",
      "52474  100820829  MLRSTSTVTLLSGGAARTPGAPSRRANVCRLRLTVPPESPVPEQCE...   \n",
      "52475  100820829  MLRSTSTVTLLSGGAARTPGAPSRRANVCRLRLTVPPESPVPEQCE...   \n",
      "\n",
      "      Disease_ID                                            Disease     Y  \n",
      "0       C0019209   Hepatomegaly: Abnormal enlargement of the liver.  0.30  \n",
      "1       C0036341  Schizophrenia: Schizophrenia is highly heritab...  0.30  \n",
      "2       C0002395  Alzheimer's Disease: Alzheimer disease is the ...  0.50  \n",
      "3       C0007102  Malignant tumor of colon: A primary or metasta...  0.31  \n",
      "4       C0009375  Colonic Neoplasms: A benign or malignant neopl...  0.30  \n",
      "...          ...                                                ...   ...  \n",
      "52471   C0029172  Oral Submucous Fibrosis: Irreversible FIBROSIS...  0.31  \n",
      "52472   C2239176  Liver carcinoma: Hepatocellular carcinoma is t...  0.40  \n",
      "52473   C0087031  Juvenile-Onset Still Disease: An inflammatory ...  0.30  \n",
      "52474   C3495559  Juvenile arthritis: Juvenile arthritis (JUVAR)...  0.30  \n",
      "52475   C3714758  Juvenile psoriatic arthritis: Childhood arthri...  0.30  \n",
      "\n",
      "[52476 rows x 5 columns]\n"
     ]
    }
   ],
   "source": [
    "from tdc.multi_pred import GDA\n",
    "data = GDA(name = 'disgenet')\n",
    "split = data.get_split()\n",
    "df = data.get_data()\n",
    "print(df)"
   ]
  },
  {
   "cell_type": "code",
   "execution_count": null,
   "metadata": {},
   "outputs": [],
   "source": []
  }
 ],
 "metadata": {
  "kernelspec": {
   "display_name": "ipnet",
   "language": "python",
   "name": "python3"
  },
  "language_info": {
   "codemirror_mode": {
    "name": "ipython",
    "version": 3
   },
   "file_extension": ".py",
   "mimetype": "text/x-python",
   "name": "python",
   "nbconvert_exporter": "python",
   "pygments_lexer": "ipython3",
   "version": "3.10.14"
  }
 },
 "nbformat": 4,
 "nbformat_minor": 2
}
