{
 "cells": [
  {
   "cell_type": "code",
   "execution_count": 1,
   "metadata": {},
   "outputs": [],
   "source": [
    "import matplotlib.pyplot as plt\n",
    "import numpy as np\n",
    "from scipy.stats import friedmanchisquare"
   ]
  },
  {
   "cell_type": "code",
   "execution_count": 10,
   "metadata": {},
   "outputs": [
    {
     "name": "stdout",
     "output_type": "stream",
     "text": [
      "10.0\n",
      "0.07523524614651217\n"
     ]
    }
   ],
   "source": [
    "# DAVIS\n",
    "KronRLS = [1-0.379,0.871]\n",
    "SimBoost = [1-0.282,0.872]\n",
    "DeepDTA = [1-0.261,0.878]\n",
    "GraphDTA = [1-0.254,0.880]\n",
    "MccDTI = [1-0.244,0.899]\n",
    "MvGraphDTA = [1-0.241,0.902]\n",
    "HMBVIP = [1-0.211,0.908]\n",
    "res = friedmanchisquare(SimBoost,DeepDTA, GraphDTA, MccDTI, MvGraphDTA, HMBVIP)\n",
    "print(res.statistic)\n",
    "print(res.pvalue)\n",
    "# pvalue < α = 0.05 \\alpha=0.05α=0.05, 故拒绝H0假设， 换句话说，多个模型的测量结果之间有显著差异。"
   ]
  }
 ],
 "metadata": {
  "kernelspec": {
   "display_name": "ipnet",
   "language": "python",
   "name": "python3"
  },
  "language_info": {
   "codemirror_mode": {
    "name": "ipython",
    "version": 3
   },
   "file_extension": ".py",
   "mimetype": "text/x-python",
   "name": "python",
   "nbconvert_exporter": "python",
   "pygments_lexer": "ipython3",
   "version": "3.10.14"
  }
 },
 "nbformat": 4,
 "nbformat_minor": 2
}
