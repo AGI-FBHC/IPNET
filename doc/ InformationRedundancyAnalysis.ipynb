{
 "cells": [
  {
   "cell_type": "markdown",
   "id": "105407d6",
   "metadata": {},
   "source": [
    " ### Centered Kernel Alignment（CKA）\n",
    "适合分析两个视角的中间层或最终表示之间的相似性。\n",
    "公式思想：通过核相似性评估两个特征矩阵之间的对齐程度\n",
    "值域：0（完全不相似） ~ 1（完全相同）\n",
    "CKA 值高 → 冗余高；CKA 值低 → 信息互补"
   ]
  },
  {
   "cell_type": "code",
   "execution_count": 16,
   "id": "c6ab7d23",
   "metadata": {},
   "outputs": [
    {
     "name": "stdout",
     "output_type": "stream",
     "text": [
      "Linear CKA, between X and Y: 0.3697040651290468\n",
      "Linear CKA, between X and X: 1.0000000000000002\n",
      "RBF Kernel CKA, between X and Y: 0.5033810276359184\n",
      "RBF Kernel CKA, between X and X: 1.0000000000000002\n"
     ]
    }
   ],
   "source": [
    "import math\n",
    "import numpy as np\n",
    "\n",
    "\n",
    "def centering(K):\n",
    "    n = K.shape[0]\n",
    "    unit = np.ones([n, n])\n",
    "    I = np.eye(n)\n",
    "    H = I - unit / n\n",
    "\n",
    "    return np.dot(np.dot(H, K), H)  # HKH are the same with KH, KH is the first centering, H(KH) do the second time, results are the sme with one time centering\n",
    "    # return np.dot(H, K)  # KH\n",
    "\n",
    "\n",
    "def rbf(X, sigma=None):\n",
    "    GX = np.dot(X, X.T)\n",
    "    KX = np.diag(GX) - GX + (np.diag(GX) - GX).T\n",
    "    if sigma is None:\n",
    "        mdist = np.median(KX[KX != 0])\n",
    "        sigma = math.sqrt(mdist)\n",
    "    KX *= - 0.5 / (sigma * sigma)\n",
    "    KX = np.exp(KX)\n",
    "    return KX\n",
    "\n",
    "\n",
    "def kernel_HSIC(X, Y, sigma):\n",
    "    return np.sum(centering(rbf(X, sigma)) * centering(rbf(Y, sigma)))\n",
    "\n",
    "\n",
    "def linear_HSIC(X, Y):\n",
    "    L_X = np.dot(X, X.T)\n",
    "    L_Y = np.dot(Y, Y.T)\n",
    "    return np.sum(centering(L_X) * centering(L_Y))\n",
    "\n",
    "\n",
    "def linear_CKA(X, Y):\n",
    "    hsic = linear_HSIC(X, Y)\n",
    "    var1 = np.sqrt(linear_HSIC(X, X))\n",
    "    var2 = np.sqrt(linear_HSIC(Y, Y))\n",
    "\n",
    "    return hsic / (var1 * var2)\n",
    "\n",
    "\n",
    "def kernel_CKA(X, Y, sigma=None):\n",
    "    hsic = kernel_HSIC(X, Y, sigma)\n",
    "    var1 = np.sqrt(kernel_HSIC(X, X, sigma))\n",
    "    var2 = np.sqrt(kernel_HSIC(Y, Y, sigma))\n",
    "\n",
    "    return hsic / (var1 * var2)\n",
    "\n",
    "\n",
    "if __name__=='__main__':\n",
    "    X = np.random.randn(100, 64)\n",
    "    Y = np.random.randn(100, 64)\n",
    "\n",
    "    print('Linear CKA, between X and Y: {}'.format(linear_CKA(X, Y)))\n",
    "    print('Linear CKA, between X and X: {}'.format(linear_CKA(X, X)))\n",
    "\n",
    "    print('RBF Kernel CKA, between X and Y: {}'.format(kernel_CKA(X, Y)))\n",
    "    print('RBF Kernel CKA, between X and X: {}'.format(kernel_CKA(X, X)))"
   ]
  },
  {
   "cell_type": "markdown",
   "id": "a39f0145",
   "metadata": {},
   "source": [
    "### Mutual Information（MI）"
   ]
  },
  {
   "cell_type": "code",
   "execution_count": 18,
   "id": "52137b0e",
   "metadata": {},
   "outputs": [
    {
     "name": "stdout",
     "output_type": "stream",
     "text": [
      "0.6931471805599453\n",
      "0.6931471805599453\n"
     ]
    }
   ],
   "source": [
    "from sklearn import metrics\n",
    "import numpy as np\n",
    "# X = np.random.randn(128)\n",
    "# Y = np.random.randn(128)\n",
    "X=[0,0,1,1]\n",
    "Y=[1,1,0,0]\n",
    "print(metrics.mutual_info_score(X,Y))\n",
    "print(metrics.mutual_info_score(X,X))"
   ]
  }
 ],
 "metadata": {
  "kernelspec": {
   "display_name": "ipnet",
   "language": "python",
   "name": "python3"
  },
  "language_info": {
   "codemirror_mode": {
    "name": "ipython",
    "version": 3
   },
   "file_extension": ".py",
   "mimetype": "text/x-python",
   "name": "python",
   "nbconvert_exporter": "python",
   "pygments_lexer": "ipython3",
   "version": "3.10.14"
  }
 },
 "nbformat": 4,
 "nbformat_minor": 5
}
