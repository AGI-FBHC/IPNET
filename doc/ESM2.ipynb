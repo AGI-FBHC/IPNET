{
 "cells": [
  {
   "cell_type": "code",
   "execution_count": 4,
   "id": "a7593f39",
   "metadata": {},
   "outputs": [
    {
     "name": "stdout",
     "output_type": "stream",
     "text": [
      "tensor([[ 0, 20,  9, 17,  8, 13,  8, 13,  9, 16, 15,  2]])\n"
     ]
    }
   ],
   "source": [
    "from transformers import EsmTokenizer\n",
    "\n",
    "tokenizer = EsmTokenizer.from_pretrained(\"facebook/esm2_t6_8M_UR50D\")  # 示例模型\n",
    "sequence = \"MENSDSDEQK\"\n",
    "tokens = tokenizer(sequence, return_tensors=\"pt\")\n",
    "print(tokens[\"input_ids\"])\n"
   ]
  }
 ],
 "metadata": {
  "kernelspec": {
   "display_name": "ipnet",
   "language": "python",
   "name": "python3"
  },
  "language_info": {
   "codemirror_mode": {
    "name": "ipython",
    "version": 3
   },
   "file_extension": ".py",
   "mimetype": "text/x-python",
   "name": "python",
   "nbconvert_exporter": "python",
   "pygments_lexer": "ipython3",
   "version": "3.10.14"
  }
 },
 "nbformat": 4,
 "nbformat_minor": 5
}
