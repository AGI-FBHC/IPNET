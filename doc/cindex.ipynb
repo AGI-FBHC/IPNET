{
 "cells": [
  {
   "cell_type": "code",
   "execution_count": 1,
   "metadata": {},
   "outputs": [],
   "source": [
    "from c_index import calc_c_index\n",
    "import numpy as np"
   ]
  },
  {
   "cell_type": "code",
   "execution_count": 2,
   "metadata": {},
   "outputs": [
    {
     "name": "stdout",
     "output_type": "stream",
     "text": [
      "cindex:-1.5473762212695314e-17\n"
     ]
    }
   ],
   "source": [
    "xs = np.array([[1,2,1.5,1.75,1.33,0.88],\n",
    "                [5,5.5,4.88,6.33,5.01,4.95]]) # Cluster 1, 2 x values\n",
    "ys = np.array([[8.9,8.5,7.89,8.25,8.85,8.29],\n",
    "                [1.25,1.14,1.85,0.85,0.79,0.96]]) # Cluster 1,2 y values\n",
    "X = np.stack((xs.ravel(),ys.ravel()), axis=1)\n",
    "cluster_labels = np.array([0,0,0,0,0,0,1,1,1,1,1,1])\n",
    "\n",
    "cindex = calc_c_index(X, cluster_labels)\n",
    "print(f\"cindex:{cindex}\")"
   ]
  },
  {
   "cell_type": "code",
   "execution_count": 2,
   "metadata": {},
   "outputs": [
    {
     "name": "stdout",
     "output_type": "stream",
     "text": [
      "cindex:0.994767718408118\n",
      "cindex:0.994767718408118\n"
     ]
    }
   ],
   "source": [
    "from sklearn.datasets import load_breast_cancer\n",
    "from sklearn.linear_model import LogisticRegression\n",
    "from sklearn.metrics import roc_auc_score\n",
    "X, y = load_breast_cancer(return_X_y=True)\n",
    "clf = LogisticRegression(solver=\"liblinear\", random_state=0).fit(X, y)\n",
    "y_score = clf.predict_proba(X)[:, 1]\n",
    "cindex = roc_auc_score(y, y_score)\n",
    "print(f\"cindex:{cindex}\")\n",
    "y_score = clf.decision_function(X)\n",
    "cindex = roc_auc_score(y, clf.decision_function(X))\n",
    "print(f\"cindex:{cindex}\")\n"
   ]
  }
 ],
 "metadata": {
  "kernelspec": {
   "display_name": "ipnet",
   "language": "python",
   "name": "python3"
  },
  "language_info": {
   "codemirror_mode": {
    "name": "ipython",
    "version": 3
   },
   "file_extension": ".py",
   "mimetype": "text/x-python",
   "name": "python",
   "nbconvert_exporter": "python",
   "pygments_lexer": "ipython3",
   "version": "3.10.14"
  }
 },
 "nbformat": 4,
 "nbformat_minor": 2
}
